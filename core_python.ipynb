{
 "cells": [
  {
   "cell_type": "markdown",
   "metadata": {
    "toc": true
   },
   "source": [
    "<h1>Table of Contents<span class=\"tocSkip\"></span></h1>\n",
    "<div class=\"toc\"><ul class=\"toc-item\"><li><span><a href=\"#Objectives\" data-toc-modified-id=\"Objectives-1\"><span class=\"toc-item-num\">1&nbsp;&nbsp;</span>Objectives</a></span></li><li><span><a href=\"#Data-Types\" data-toc-modified-id=\"Data-Types-2\"><span class=\"toc-item-num\">2&nbsp;&nbsp;</span>Data Types</a></span><ul class=\"toc-item\"><li><span><a href=\"#Data-Types\" data-toc-modified-id=\"Data-Types-2.1\"><span class=\"toc-item-num\">2.1&nbsp;&nbsp;</span>Data Types</a></span></li><li><span><a href=\"#How-can-we-check-types?\" data-toc-modified-id=\"How-can-we-check-types?-2.2\"><span class=\"toc-item-num\">2.2&nbsp;&nbsp;</span>How can we check types?</a></span></li><li><span><a href=\"#String-methods\" data-toc-modified-id=\"String-methods-2.3\"><span class=\"toc-item-num\">2.3&nbsp;&nbsp;</span>String methods</a></span></li><li><span></span></li></ul></li><li><span><a href=\"#Data-Structures\" data-toc-modified-id=\"Data-Structures-3\"><span class=\"toc-item-num\">3&nbsp;&nbsp;</span>Data Structures</a></span><ul class=\"toc-item\"><li><span><a href=\"#List\" data-toc-modified-id=\"List-3.1\"><span class=\"toc-item-num\">3.1&nbsp;&nbsp;</span>List</a></span><ul class=\"toc-item\"><li><span><a href=\"#List-Indexing\" data-toc-modified-id=\"List-Indexing-3.1.1\"><span class=\"toc-item-num\">3.1.1&nbsp;&nbsp;</span>List Indexing</a></span></li><li><span><a href=\"#List-Methods\" data-toc-modified-id=\"List-Methods-3.1.2\"><span class=\"toc-item-num\">3.1.2&nbsp;&nbsp;</span>List Methods</a></span></li></ul></li><li><span><a href=\"#Dictionaries\" data-toc-modified-id=\"Dictionaries-3.2\"><span class=\"toc-item-num\">3.2&nbsp;&nbsp;</span>Dictionaries</a></span><ul class=\"toc-item\"><li><span><a href=\"#Accessing-elements-of-the-dictionary\" data-toc-modified-id=\"Accessing-elements-of-the-dictionary-3.2.1\"><span class=\"toc-item-num\">3.2.1&nbsp;&nbsp;</span>Accessing elements of the dictionary</a></span></li></ul></li></ul></li><li><span><a href=\"#Control-Flow\" data-toc-modified-id=\"Control-Flow-4\"><span class=\"toc-item-num\">4&nbsp;&nbsp;</span>Control Flow</a></span><ul class=\"toc-item\"><li><span><a href=\"#If-Statements\" data-toc-modified-id=\"If-Statements-4.1\"><span class=\"toc-item-num\">4.1&nbsp;&nbsp;</span>If Statements</a></span><ul class=\"toc-item\"><li><span><a href=\"#Ternary-Operator\" data-toc-modified-id=\"Ternary-Operator-4.1.1\"><span class=\"toc-item-num\">4.1.1&nbsp;&nbsp;</span>Ternary Operator</a></span></li></ul></li><li><span><a href=\"#for-loop-and-while-loops\" data-toc-modified-id=\"for-loop-and-while-loops-4.2\"><span class=\"toc-item-num\">4.2&nbsp;&nbsp;</span>for loop and while loops</a></span><ul class=\"toc-item\"><li><span><a href=\"#for-Loops\" data-toc-modified-id=\"for-Loops-4.2.1\"><span class=\"toc-item-num\">4.2.1&nbsp;&nbsp;</span><code>for</code> Loops</a></span></li><li><span><a href=\"#while-Loops\" data-toc-modified-id=\"while-Loops-4.2.2\"><span class=\"toc-item-num\">4.2.2&nbsp;&nbsp;</span><code>while</code> Loops</a></span></li><li><span><a href=\"#🎵I-want-to-break-free!!!-🎵\" data-toc-modified-id=\"🎵I-want-to-break-free!!!-🎵-4.2.3\"><span class=\"toc-item-num\">4.2.3&nbsp;&nbsp;</span><em>🎵I want to break free!!! 🎵</em></a></span></li></ul></li></ul></li></ul></div>"
   ]
  },
  {
   "cell_type": "markdown",
   "metadata": {
    "colab_type": "text",
    "heading_collapsed": true,
    "id": "lBdcZ_hR8EM3"
   },
   "source": [
    "# Objectives"
   ]
  },
  {
   "cell_type": "markdown",
   "metadata": {
    "colab_type": "text",
    "hidden": true,
    "id": "lBdcZ_hR8EM3"
   },
   "source": [
    "You will be able to:\n",
    "* Identify data types - strings, numbers, bool \n",
    "* Identify data structures - lists, dictionaries\n",
    "* Define use case for different control flow tools - if, for, while"
   ]
  },
  {
   "cell_type": "markdown",
   "metadata": {
    "colab_type": "text",
    "heading_collapsed": true,
    "hidden": true,
    "id": "0urm7oKo8ENC"
   },
   "source": [
    "## String methods"
   ]
  },
  {
   "cell_type": "markdown",
   "metadata": {
    "colab_type": "text",
    "hidden": true,
    "id": "a2AfUEME8ENC"
   },
   "source": [
    "* .upper()\n",
    "* .lower()\n",
    "* .capitalize()\n",
    "* .title()\n"
   ]
  },
  {
   "cell_type": "code",
   "execution_count": null,
   "metadata": {},
   "outputs": [],
   "source": [
    "name = 'tania islam'"
   ]
  },
  {
   "cell_type": "code",
   "execution_count": null,
   "metadata": {
    "colab": {},
    "colab_type": "code",
    "hidden": true,
    "id": "OEdEXkTZ8END",
    "outputId": "ed047f01-5e87-4172-b720-2b30ea3893a4",
    "scrolled": true
   },
   "outputs": [],
   "source": [
    "name.title()"
   ]
  },
  {
   "cell_type": "code",
   "execution_count": null,
   "metadata": {},
   "outputs": [],
   "source": [
    "name.upper()"
   ]
  },
  {
   "cell_type": "code",
   "execution_count": null,
   "metadata": {},
   "outputs": [],
   "source": [
    "last_name = 'ISLAM'"
   ]
  },
  {
   "cell_type": "code",
   "execution_count": null,
   "metadata": {},
   "outputs": [],
   "source": [
    "last_name.lower()"
   ]
  },
  {
   "cell_type": "code",
   "execution_count": null,
   "metadata": {},
   "outputs": [],
   "source": [
    "var = 'hello'\n",
    "var1= 'python'\n",
    "var2 = 'course!'"
   ]
  },
  {
   "cell_type": "code",
   "execution_count": null,
   "metadata": {},
   "outputs": [],
   "source": [
    "var.capitalize()"
   ]
  },
  {
   "cell_type": "code",
   "execution_count": null,
   "metadata": {},
   "outputs": [],
   "source": [
    "var2.capitalize()"
   ]
  },
  {
   "cell_type": "code",
   "execution_count": null,
   "metadata": {},
   "outputs": [],
   "source": [
    "var1.capitalize()"
   ]
  },
  {
   "cell_type": "code",
   "execution_count": null,
   "metadata": {},
   "outputs": [],
   "source": [
    "name.capitalize()"
   ]
  },
  {
   "cell_type": "markdown",
   "metadata": {
    "colab_type": "text",
    "heading_collapsed": true,
    "id": "0Nd51W898ENI"
   },
   "source": [
    "# Data Structures"
   ]
  },
  {
   "cell_type": "markdown",
   "metadata": {
    "colab_type": "text",
    "hidden": true,
    "id": "f0nRhefJ8ENJ"
   },
   "source": [
    "* lists - []\n",
    "* dictionaries - {'key':'value'/value, }\n",
    "* tuple"
   ]
  },
  {
   "cell_type": "markdown",
   "metadata": {
    "heading_collapsed": true,
    "hidden": true
   },
   "source": [
    "## List"
   ]
  },
  {
   "cell_type": "markdown",
   "metadata": {
    "colab_type": "text",
    "heading_collapsed": true,
    "hidden": true,
    "id": "XDHoKqwN8ENJ"
   },
   "source": [
    "### List Indexing"
   ]
  },
  {
   "cell_type": "code",
   "execution_count": 1,
   "metadata": {
    "colab": {},
    "colab_type": "code",
    "hidden": true,
    "id": "SEuYfW188ENL"
   },
   "outputs": [
    {
     "data": {
      "text/plain": [
       "['Solta',\n",
       " 'Buenos Aires',\n",
       " 'Los Cabos',\n",
       " 'Walla Walla Valley',\n",
       " 'Marakesh',\n",
       " 'Albuquerque',\n",
       " 'Archipelago Sea',\n",
       " 'Iguazu Falls',\n",
       " 'Salina Island',\n",
       " 'Toronto',\n",
       " 'Pyeongchang']"
      ]
     },
     "execution_count": 1,
     "metadata": {},
     "output_type": "execute_result"
    }
   ],
   "source": [
    "top_travel_cities = ['Solta', 'Buenos Aires', 'Los Cabos', 'Walla Walla Valley', 'Marakesh', 'Albuquerque', 'Archipelago Sea', 'Iguazu Falls', 'Salina Island', 'Toronto', 'Pyeongchang']\n",
    "top_travel_cities"
   ]
  },
  {
   "cell_type": "code",
   "execution_count": null,
   "metadata": {},
   "outputs": [],
   "source": [
    "new_data = top_travel_cities.pop(5)"
   ]
  },
  {
   "cell_type": "code",
   "execution_count": null,
   "metadata": {},
   "outputs": [],
   "source": [
    "new_data"
   ]
  },
  {
   "cell_type": "code",
   "execution_count": null,
   "metadata": {},
   "outputs": [],
   "source": [
    "new_cities = ['califonia']"
   ]
  },
  {
   "cell_type": "code",
   "execution_count": null,
   "metadata": {},
   "outputs": [],
   "source": [
    "top_travel_cities.append(new_cities)"
   ]
  },
  {
   "cell_type": "code",
   "execution_count": null,
   "metadata": {},
   "outputs": [],
   "source": [
    "top_travel_cities"
   ]
  },
  {
   "cell_type": "code",
   "execution_count": 2,
   "metadata": {},
   "outputs": [],
   "source": [
    "top_travel_cities.insert(2,'Kolkata')"
   ]
  },
  {
   "cell_type": "code",
   "execution_count": 3,
   "metadata": {},
   "outputs": [
    {
     "data": {
      "text/plain": [
       "['Solta',\n",
       " 'Buenos Aires',\n",
       " 'Kolkata',\n",
       " 'Los Cabos',\n",
       " 'Walla Walla Valley',\n",
       " 'Marakesh',\n",
       " 'Albuquerque',\n",
       " 'Archipelago Sea',\n",
       " 'Iguazu Falls',\n",
       " 'Salina Island',\n",
       " 'Toronto',\n",
       " 'Pyeongchang']"
      ]
     },
     "execution_count": 3,
     "metadata": {},
     "output_type": "execute_result"
    }
   ],
   "source": [
    "top_travel_cities"
   ]
  },
  {
   "cell_type": "code",
   "execution_count": null,
   "metadata": {},
   "outputs": [],
   "source": [
    "type(top_travel_cities)"
   ]
  },
  {
   "cell_type": "code",
   "execution_count": null,
   "metadata": {
    "colab": {},
    "colab_type": "code",
    "hidden": true,
    "id": "A1NY49sn8ENO",
    "outputId": "9d96eccc-9f5f-4795-efc8-b895a0ca0153"
   },
   "outputs": [],
   "source": [
    "top_travel_cities[0:5]"
   ]
  },
  {
   "cell_type": "code",
   "execution_count": null,
   "metadata": {
    "hidden": true
   },
   "outputs": [],
   "source": [
    "len(top_travel_cities)"
   ]
  },
  {
   "cell_type": "code",
   "execution_count": null,
   "metadata": {
    "hidden": true
   },
   "outputs": [],
   "source": [
    "top_travel_cities[:4]"
   ]
  },
  {
   "cell_type": "code",
   "execution_count": null,
   "metadata": {
    "hidden": true
   },
   "outputs": [],
   "source": [
    "top_travel_cities[::-2]"
   ]
  },
  {
   "cell_type": "markdown",
   "metadata": {
    "colab_type": "text",
    "heading_collapsed": true,
    "hidden": true,
    "id": "v0n2atNf8ENS"
   },
   "source": [
    "### List Methods"
   ]
  },
  {
   "cell_type": "markdown",
   "metadata": {
    "colab_type": "text",
    "hidden": true,
    "id": "CC5wrl3g8ENT"
   },
   "source": [
    "* .pop() - remove last element added\n",
    "* .append() - add element to end of list\n",
    "* .insert() - inserts new element\n",
    "* .remove() - remove element from list\n",
    "* .extend() - extends one list with elements from another "
   ]
  },
  {
   "cell_type": "code",
   "execution_count": 4,
   "metadata": {
    "colab": {},
    "colab_type": "code",
    "hidden": true,
    "id": "dwck7gib8ENU",
    "outputId": "cc731387-5ccf-4836-9db0-a76288770d29"
   },
   "outputs": [],
   "source": [
    "#top_travel_cities.insert()\n",
    "a = [1, 2, 3]\n",
    "b = ['one', 'two', 'three']"
   ]
  },
  {
   "cell_type": "code",
   "execution_count": null,
   "metadata": {},
   "outputs": [],
   "source": [
    "a.pop()\n",
    "print(a)"
   ]
  },
  {
   "cell_type": "code",
   "execution_count": 7,
   "metadata": {
    "colab": {},
    "colab_type": "code",
    "hidden": true,
    "id": "dwck7gib8ENU",
    "outputId": "cc731387-5ccf-4836-9db0-a76288770d29"
   },
   "outputs": [
    {
     "name": "stdout",
     "output_type": "stream",
     "text": [
      "a [1, 3]\n",
      "b ['one', 'two', 'three']\n",
      "new a [1, 3, 'one', 'two', 'three']\n"
     ]
    }
   ],
   "source": [
    "# .extend() exercise\n",
    "print('a', a)\n",
    "print('b', b)\n",
    "a.extend(b)\n",
    "print('new a', a)"
   ]
  },
  {
   "cell_type": "code",
   "execution_count": 5,
   "metadata": {},
   "outputs": [],
   "source": [
    "a.remove(2)"
   ]
  },
  {
   "cell_type": "code",
   "execution_count": 6,
   "metadata": {},
   "outputs": [
    {
     "name": "stdout",
     "output_type": "stream",
     "text": [
      "[1, 3]\n"
     ]
    }
   ],
   "source": [
    "print(a)"
   ]
  },
  {
   "cell_type": "code",
   "execution_count": null,
   "metadata": {},
   "outputs": [],
   "source": [
    "a.insert(2,5)"
   ]
  },
  {
   "cell_type": "code",
   "execution_count": null,
   "metadata": {},
   "outputs": [],
   "source": [
    "print(a)"
   ]
  },
  {
   "cell_type": "markdown",
   "metadata": {
    "hidden": true
   },
   "source": [
    "You can also add lists together to create larger lists"
   ]
  },
  {
   "cell_type": "code",
   "execution_count": null,
   "metadata": {
    "hidden": true
   },
   "outputs": [],
   "source": [
    "c = a + b + [1000,100] + [1]"
   ]
  },
  {
   "cell_type": "code",
   "execution_count": null,
   "metadata": {},
   "outputs": [],
   "source": [
    "print(c)"
   ]
  },
  {
   "cell_type": "markdown",
   "metadata": {
    "hidden": true
   },
   "source": [
    "You can also create lists of lists (nested lists)"
   ]
  },
  {
   "cell_type": "code",
   "execution_count": null,
   "metadata": {
    "hidden": true
   },
   "outputs": [],
   "source": [
    "a = [[10,11,22],3,4,a]"
   ]
  },
  {
   "cell_type": "code",
   "execution_count": null,
   "metadata": {},
   "outputs": [],
   "source": [
    "a"
   ]
  },
  {
   "cell_type": "markdown",
   "metadata": {
    "heading_collapsed": true,
    "hidden": true
   },
   "source": [
    "## Dictionaries"
   ]
  },
  {
   "cell_type": "markdown",
   "metadata": {
    "hidden": true
   },
   "source": [
    "You should think of these as key-value pairs (they don't have order). In other languages, these are nearly equivalent to a **hash map**."
   ]
  },
  {
   "cell_type": "code",
   "execution_count": null,
   "metadata": {
    "ExecuteTime": {
     "end_time": "2020-01-29T20:40:40.125380Z",
     "start_time": "2020-01-29T20:40:40.117517Z"
    },
    "hidden": true
   },
   "outputs": [],
   "source": [
    "d = {'str_key':'str_val', 'other key':1, 10: 5}"
   ]
  },
  {
   "cell_type": "code",
   "execution_count": null,
   "metadata": {
    "hidden": true
   },
   "outputs": [],
   "source": [
    "# Getting the value via key\n",
    "d['other key']"
   ]
  },
  {
   "cell_type": "markdown",
   "metadata": {
    "hidden": true
   },
   "source": [
    "Safe way of getting a value (what if the key isn't there)"
   ]
  },
  {
   "cell_type": "code",
   "execution_count": null,
   "metadata": {
    "hidden": true
   },
   "outputs": [],
   "source": [
    "d['not a key'] # Gives error"
   ]
  },
  {
   "cell_type": "code",
   "execution_count": null,
   "metadata": {
    "ExecuteTime": {
     "end_time": "2020-01-29T20:40:46.322549Z",
     "start_time": "2020-01-29T20:40:46.319473Z"
    },
    "hidden": true
   },
   "outputs": [],
   "source": [
    "print(d.get('not a key'))"
   ]
  },
  {
   "cell_type": "code",
   "execution_count": null,
   "metadata": {
    "ExecuteTime": {
     "end_time": "2020-01-29T20:41:03.004151Z",
     "start_time": "2020-01-29T20:41:02.992891Z"
    },
    "hidden": true
   },
   "outputs": [],
   "source": [
    "d.get('not a key', 0) # Allows for a default value"
   ]
  },
  {
   "cell_type": "markdown",
   "metadata": {
    "heading_collapsed": true,
    "hidden": true
   },
   "source": [
    "### Accessing elements of the dictionary"
   ]
  },
  {
   "cell_type": "code",
   "execution_count": 8,
   "metadata": {
    "ExecuteTime": {
     "end_time": "2020-01-29T20:41:44.303559Z",
     "start_time": "2020-01-29T20:41:44.299491Z"
    },
    "hidden": true
   },
   "outputs": [],
   "source": [
    "d = {'str_key':'str_val', 'other key':1, 10: 5}"
   ]
  },
  {
   "cell_type": "code",
   "execution_count": 9,
   "metadata": {
    "ExecuteTime": {
     "end_time": "2020-01-29T20:41:53.512585Z",
     "start_time": "2020-01-29T20:41:53.508804Z"
    },
    "hidden": true
   },
   "outputs": [
    {
     "data": {
      "text/plain": [
       "3"
      ]
     },
     "execution_count": 9,
     "metadata": {},
     "output_type": "execute_result"
    }
   ],
   "source": [
    "len(d)"
   ]
  },
  {
   "cell_type": "code",
   "execution_count": 10,
   "metadata": {
    "ExecuteTime": {
     "end_time": "2020-01-29T20:42:19.946790Z",
     "start_time": "2020-01-29T20:42:19.943048Z"
    },
    "hidden": true
   },
   "outputs": [
    {
     "data": {
      "text/plain": [
       "dict_keys(['str_key', 'other key', 10])"
      ]
     },
     "execution_count": 10,
     "metadata": {},
     "output_type": "execute_result"
    }
   ],
   "source": [
    "d.keys()"
   ]
  },
  {
   "cell_type": "code",
   "execution_count": 11,
   "metadata": {
    "ExecuteTime": {
     "end_time": "2020-01-29T20:42:22.535371Z",
     "start_time": "2020-01-29T20:42:22.532062Z"
    },
    "hidden": true
   },
   "outputs": [
    {
     "data": {
      "text/plain": [
       "dict_values(['str_val', 1, 5])"
      ]
     },
     "execution_count": 11,
     "metadata": {},
     "output_type": "execute_result"
    }
   ],
   "source": [
    "d.values()"
   ]
  },
  {
   "cell_type": "code",
   "execution_count": 12,
   "metadata": {
    "ExecuteTime": {
     "end_time": "2020-01-29T20:41:59.042895Z",
     "start_time": "2020-01-29T20:41:59.039308Z"
    },
    "hidden": true
   },
   "outputs": [
    {
     "data": {
      "text/plain": [
       "dict_items([('str_key', 'str_val'), ('other key', 1), (10, 5)])"
      ]
     },
     "execution_count": 12,
     "metadata": {},
     "output_type": "execute_result"
    }
   ],
   "source": [
    "d.items()"
   ]
  },
  {
   "cell_type": "code",
   "execution_count": 13,
   "metadata": {},
   "outputs": [
    {
     "name": "stdout",
     "output_type": "stream",
     "text": [
      "Enter your name:Harun\n",
      "Enter your age:24\n",
      "Enter your id:47\n",
      "{'Name:': 'Harun', 'Age:': 24, 'ID:': '47'}\n"
     ]
    }
   ],
   "source": [
    "name = input(\"Enter your name:\")\n",
    "age = int(input(\"Enter your age:\"))\n",
    "id = input(\"Enter your id:\")\n",
    "\n",
    "my_input = {\"Name:\" : name,\"Age:\":age,\"ID:\":id}\n",
    "\n",
    "print(my_input)"
   ]
  },
  {
   "cell_type": "markdown",
   "metadata": {},
   "source": [
    "## Tuple"
   ]
  },
  {
   "cell_type": "code",
   "execution_count": null,
   "metadata": {},
   "outputs": [],
   "source": [
    "roles = (\"Admin\", \"Operator\", \"User\")   \n",
    "# Or following line will create the same Tuple\n",
    "# roles = \"Admin\", \"Operator\", \"User\" \n",
    "\n",
    "print(roles[0])"
   ]
  },
  {
   "cell_type": "code",
   "execution_count": null,
   "metadata": {},
   "outputs": [],
   "source": [
    "roles = (\"Admin\", \"Operator\", \"User\")   \n",
    "roles[2] = \"Customer\""
   ]
  },
  {
   "cell_type": "code",
   "execution_count": null,
   "metadata": {},
   "outputs": [],
   "source": [
    "permissions = ((\"Admin\", \"Operator\", \"Customer\"), (\"Developer\", \"Tester\"), [1, 2, 3], {\"Stage\": \"Development\"})\n",
    "\n",
    "print(permissions[2])"
   ]
  },
  {
   "cell_type": "markdown",
   "metadata": {},
   "source": [
    "<b>Tuple unpacking"
   ]
  },
  {
   "cell_type": "code",
   "execution_count": null,
   "metadata": {},
   "outputs": [],
   "source": [
    "numbers = (1, 2, 3)\n",
    "a, b, c = numbers\n",
    "print(a)\n",
    "print(b)\n",
    "print(c)"
   ]
  },
  {
   "cell_type": "code",
   "execution_count": 15,
   "metadata": {},
   "outputs": [
    {
     "name": "stdout",
     "output_type": "stream",
     "text": [
      "Enter your name:Harun\n",
      "Enter your age:47\n",
      "Enter your id:64\n",
      "['Harun', 47, '64']\n",
      "64\n"
     ]
    }
   ],
   "source": [
    "name = input(\"Enter your name:\")\n",
    "age = int(input(\"Enter your age:\"))\n",
    "id = input(\"Enter your id:\")\n",
    "\n",
    "my_input = [name, age,id]\n",
    "\n",
    "print(my_input)\n",
    "#my_input[2]=256\n",
    "print(my_input[2])"
   ]
  },
  {
   "cell_type": "markdown",
   "metadata": {
    "colab_type": "text",
    "heading_collapsed": true,
    "id": "H02JOSir8ENW"
   },
   "source": [
    "# Control Flow"
   ]
  },
  {
   "cell_type": "markdown",
   "metadata": {
    "colab_type": "text",
    "hidden": true,
    "id": "74QzWbVI8ENW"
   },
   "source": [
    "* for loop\n",
    "* while loop\n",
    "* if statement"
   ]
  },
  {
   "cell_type": "markdown",
   "metadata": {
    "heading_collapsed": true,
    "hidden": true
   },
   "source": [
    "## If Statements"
   ]
  },
  {
   "cell_type": "code",
   "execution_count": null,
   "metadata": {
    "colab": {},
    "colab_type": "code",
    "hidden": true,
    "id": "iyOZMLAN8ENX"
   },
   "outputs": [],
   "source": [
    "# if statements\n",
    "if condition_statement:\n",
    "    output (print_statement, return_statement, operation)\n",
    "elif:\n",
    "    output alternate\n",
    "else:\n",
    "    output last possibility"
   ]
  },
  {
   "cell_type": "markdown",
   "metadata": {
    "heading_collapsed": true,
    "hidden": true
   },
   "source": [
    "### Ternary Operator"
   ]
  },
  {
   "cell_type": "markdown",
   "metadata": {
    "hidden": true
   },
   "source": [
    "This can be really useful when you want to shorten your code and make it more readable. These are especially common in list comprehnesions and lambda functions."
   ]
  },
  {
   "cell_type": "code",
   "execution_count": null,
   "metadata": {
    "hidden": true
   },
   "outputs": [],
   "source": [
    "flag = False\n",
    "x = 1 if flag else 0\n",
    "\n",
    "print(x)"
   ]
  },
  {
   "cell_type": "code",
   "execution_count": null,
   "metadata": {
    "hidden": true
   },
   "outputs": [],
   "source": [
    "y = 10\n",
    "z = 20\n",
    "\n",
    "x = y if y < z else z\n",
    "\n",
    "print(x)"
   ]
  },
  {
   "cell_type": "code",
   "execution_count": null,
   "metadata": {},
   "outputs": [],
   "source": [
    "y = 10 \n",
    "z = 20\n",
    "if y < z:\n",
    "    print('Smaller value')\n",
    "else:\n",
    "    print('None')"
   ]
  },
  {
   "cell_type": "markdown",
   "metadata": {
    "colab_type": "text",
    "heading_collapsed": true,
    "hidden": true,
    "id": "G4axt04I8ENZ"
   },
   "source": [
    "## for loop and while loops"
   ]
  },
  {
   "cell_type": "markdown",
   "metadata": {
    "colab_type": "text",
    "hidden": true,
    "id": "G4axt04I8ENZ"
   },
   "source": [
    "* for loop - iterate through a set\n",
    "* while loop - iterate through a condition"
   ]
  },
  {
   "cell_type": "markdown",
   "metadata": {
    "heading_collapsed": true,
    "hidden": true
   },
   "source": [
    "### `for` Loops"
   ]
  },
  {
   "cell_type": "markdown",
   "metadata": {
    "hidden": true
   },
   "source": [
    "These act a little different from other typical languages. In Python, you are always looping over an [_iterable_](https://docs.python.org/3/glossary.html#term-iterable)"
   ]
  },
  {
   "cell_type": "code",
   "execution_count": null,
   "metadata": {
    "colab": {},
    "colab_type": "code",
    "hidden": true,
    "id": "loW1OpUl8ENb"
   },
   "outputs": [],
   "source": [
    "# for memeber in a_set:\n",
    "#     operation"
   ]
  },
  {
   "cell_type": "code",
   "execution_count": 16,
   "metadata": {
    "colab": {},
    "colab_type": "code",
    "hidden": true,
    "id": "9YXa750F8ENe",
    "outputId": "9ba46bbd-4c12-419a-ec64-beb5447152f6"
   },
   "outputs": [
    {
     "name": "stdout",
     "output_type": "stream",
     "text": [
      "Apple Juice!\n",
      "Orange Juice!\n",
      "Pineapple Juice!\n",
      "Grape Juice!\n"
     ]
    }
   ],
   "source": [
    "fruits = [\"Apple\", \"Orange\", \"Pineapple\", \"Grape\"]\n",
    "# Lets make juice with these fruits\n",
    "\n",
    "for fruit in fruits:\n",
    "    print(fruit + \" Juice!\")"
   ]
  },
  {
   "cell_type": "code",
   "execution_count": 17,
   "metadata": {
    "colab": {},
    "colab_type": "code",
    "hidden": true,
    "id": "vIfacz8o8ENf",
    "outputId": "dfff0be5-1adb-43b8-d9c9-c66b71cc7721"
   },
   "outputs": [
    {
     "name": "stdout",
     "output_type": "stream",
     "text": [
      "1\n",
      "2\n",
      "3\n",
      "4\n",
      "5\n",
      "6\n",
      "7\n",
      "8\n",
      "9\n",
      "10\n",
      "11\n",
      "12\n",
      "13\n",
      "14\n",
      "15\n",
      "16\n",
      "17\n",
      "18\n",
      "19\n",
      "20\n",
      "21\n",
      "22\n",
      "23\n",
      "24\n",
      "25\n",
      "26\n",
      "27\n",
      "28\n",
      "29\n",
      "30\n",
      "31\n",
      "32\n",
      "33\n",
      "34\n",
      "35\n",
      "36\n",
      "37\n",
      "38\n",
      "39\n",
      "40\n",
      "41\n",
      "42\n",
      "43\n",
      "44\n",
      "45\n",
      "46\n",
      "47\n",
      "48\n",
      "49\n",
      "50\n",
      "51\n",
      "52\n",
      "53\n",
      "54\n",
      "55\n",
      "56\n",
      "57\n",
      "58\n",
      "59\n",
      "60\n",
      "61\n",
      "62\n",
      "63\n",
      "64\n",
      "65\n",
      "66\n",
      "67\n",
      "68\n",
      "69\n",
      "70\n",
      "71\n",
      "72\n",
      "73\n",
      "74\n",
      "75\n",
      "76\n",
      "77\n",
      "78\n",
      "79\n",
      "80\n",
      "81\n",
      "82\n",
      "83\n",
      "84\n",
      "85\n",
      "86\n",
      "87\n",
      "88\n",
      "89\n",
      "90\n",
      "91\n",
      "92\n",
      "93\n",
      "94\n",
      "95\n",
      "96\n",
      "97\n",
      "98\n",
      "99\n"
     ]
    }
   ],
   "source": [
    "# start with 5 and ends with 10\n",
    "for i in range(1, 100):\n",
    "      print(i)"
   ]
  },
  {
   "cell_type": "code",
   "execution_count": 18,
   "metadata": {},
   "outputs": [
    {
     "name": "stdout",
     "output_type": "stream",
     "text": [
      "P\n",
      "y\n",
      "t\n",
      "h\n",
      "o\n",
      "n\n"
     ]
    }
   ],
   "source": [
    "for letter in 'Python': # Here \"Python\" acts like a list of characters\n",
    "    print(letter)"
   ]
  },
  {
   "cell_type": "markdown",
   "metadata": {
    "heading_collapsed": true,
    "hidden": true
   },
   "source": [
    "### `while` Loops"
   ]
  },
  {
   "cell_type": "markdown",
   "metadata": {
    "hidden": true
   },
   "source": [
    "`while` loops will keep going until a condition is met or the \"brakes are pumped\" with a `break` statement (See next subsection)."
   ]
  },
  {
   "cell_type": "code",
   "execution_count": null,
   "metadata": {
    "colab": {},
    "colab_type": "code",
    "hidden": true,
    "id": "loW1OpUl8ENb"
   },
   "outputs": [],
   "source": [
    "# while condition(>,<.>=,<=,==):\n",
    "#     operation"
   ]
  },
  {
   "cell_type": "code",
   "execution_count": 19,
   "metadata": {
    "colab": {},
    "colab_type": "code",
    "hidden": true,
    "id": "xl0km-Cv8ENh",
    "outputId": "8b06c9de-d241-44b5-8035-48bd134fc213"
   },
   "outputs": [
    {
     "name": "stdout",
     "output_type": "stream",
     "text": [
      "4\n",
      "3\n",
      "2\n",
      "1\n",
      "The stop_number reached 0 so the while loop's condition became False and stopped execution\n"
     ]
    }
   ],
   "source": [
    "stop_number = 4\n",
    "while stop_number > 0:\n",
    "    print(stop_number)\n",
    "    stop_number -= 1\n",
    "print(\"The stop_number reached\", stop_number, \"so the while loop's condition became False and stopped execution\")"
   ]
  },
  {
   "cell_type": "markdown",
   "metadata": {
    "heading_collapsed": true,
    "hidden": true
   },
   "source": [
    "### _🎵I want to break free!!! 🎵_"
   ]
  },
  {
   "cell_type": "markdown",
   "metadata": {
    "hidden": true
   },
   "source": [
    "You can add more control in these loops with `continue` and `break`. They are usually part of an if-else block to find certain situations."
   ]
  },
  {
   "cell_type": "code",
   "execution_count": 20,
   "metadata": {
    "hidden": true
   },
   "outputs": [
    {
     "name": "stdout",
     "output_type": "stream",
     "text": [
      "0\n",
      "1\n",
      "2\n",
      "3\n",
      "4\n",
      "5\n",
      "Break freee!!!\n"
     ]
    }
   ],
   "source": [
    "i = 0\n",
    "while(i<10):\n",
    "    print(i)\n",
    "    if i == 5:\n",
    "        print('Break freee!!!')\n",
    "        break\n",
    "    i += 1"
   ]
  },
  {
   "cell_type": "code",
   "execution_count": 21,
   "metadata": {
    "ExecuteTime": {
     "end_time": "2020-01-29T20:47:48.848670Z",
     "start_time": "2020-01-29T20:47:48.844803Z"
    },
    "hidden": true
   },
   "outputs": [
    {
     "name": "stdout",
     "output_type": "stream",
     "text": [
      "1 After the continue\n",
      "3 After the continue\n",
      "5 After the continue\n",
      "7 After the continue\n",
      "9 After the continue\n"
     ]
    }
   ],
   "source": [
    "i = 0\n",
    "counter = 0\n",
    "while(i<10):\n",
    "    i += 1\n",
    "    counter += 1\n",
    "    if counter % 2 == 0:\n",
    "        continue\n",
    "    # This won't be reached if even\n",
    "    print(i,'After the continue')"
   ]
  }
 ],
 "metadata": {
  "colab": {
   "name": "M01S01.ipynb",
   "provenance": [],
   "version": "0.3.2"
  },
  "kernelspec": {
   "display_name": "Python 3",
   "language": "python",
   "name": "python3"
  },
  "language_info": {
   "codemirror_mode": {
    "name": "ipython",
    "version": 3
   },
   "file_extension": ".py",
   "mimetype": "text/x-python",
   "name": "python",
   "nbconvert_exporter": "python",
   "pygments_lexer": "ipython3",
   "version": "3.7.4"
  },
  "toc": {
   "base_numbering": 1,
   "nav_menu": {},
   "number_sections": true,
   "sideBar": true,
   "skip_h1_title": false,
   "title_cell": "Table of Contents",
   "title_sidebar": "Contents",
   "toc_cell": true,
   "toc_position": {},
   "toc_section_display": true,
   "toc_window_display": true
  },
  "varInspector": {
   "cols": {
    "lenName": 16,
    "lenType": 16,
    "lenVar": 40
   },
   "kernels_config": {
    "python": {
     "delete_cmd_postfix": "",
     "delete_cmd_prefix": "del ",
     "library": "var_list.py",
     "varRefreshCmd": "print(var_dic_list())"
    },
    "r": {
     "delete_cmd_postfix": ") ",
     "delete_cmd_prefix": "rm(",
     "library": "var_list.r",
     "varRefreshCmd": "cat(var_dic_list()) "
    }
   },
   "types_to_exclude": [
    "module",
    "function",
    "builtin_function_or_method",
    "instance",
    "_Feature"
   ],
   "window_display": false
  }
 },
 "nbformat": 4,
 "nbformat_minor": 1
}
